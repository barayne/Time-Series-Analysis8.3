{
 "cells": [
  {
   "cell_type": "markdown",
   "metadata": {},
   "source": [
    "1. Defining the Question\n",
    "a) Specifying the Data Analysis Question\n",
    "What is your research question? What problem is it that you are trying to solve?\n",
    "\n",
    "Swift lift Taxi company would like a prediction of the number of taxi orders for the next hour to attract more drivers during peak hours\n",
    "b) Defining the Metric for Success\n",
    "What will convince you that your project has succeeded?\n",
    "\n",
    "The solution will have satisfied the research question when the model can predict estimated number of taxi orders for the next hour\n",
    "c) Understanding the Context\n",
    "The background information surrounding the problem or research question.\n",
    "\n",
    "Sweet Lift Taxi company has collected historical data on taxi orders at airports. To attract more drivers during peak hours, we need to predict the number of taxi orders for the next hour. Build a model for such a prediction.\n",
    "\n",
    "The RMSE metric on the test set should not be more than 48.\n",
    "\n",
    "d) Recording the Experimental Design\n",
    "The steps you will take from the beginning to the end of this project.\n",
    "\n",
    "Defining the Research Question\n",
    "\n",
    "Data Importation\n",
    "Data Exploration\n",
    "Data Cleaning\n",
    "Data Analysis (Univariate and Bivariate)\n",
    "Data Preparation\n",
    "Data Modeling\n",
    "Model Evaluation\n",
    "Challenging your Solution\n",
    "Recommendations / Conclusion\n",
    "e) Data Relevance\n",
    "Is the provided data relevant to the problem or research question?\n",
    "\n",
    "For now, the data we have contains data which will be critical for our research specific analysis."
   ]
  },
  {
   "cell_type": "markdown",
   "metadata": {},
   "source": [
    "2. Data Cleaning & Preparation"
   ]
  },
  {
   "cell_type": "code",
   "execution_count": 1,
   "metadata": {},
   "outputs": [],
   "source": [
    "\n",
    "# load libraries\n",
    "import pandas as pd\n",
    "from sklearn.model_selection import train_test_split\n",
    "import matplotlib.pyplot as plt\n",
    "import seaborn as sns\n",
    "from scipy.stats import norm\n",
    "import numpy as np\n",
    "from sklearn.metrics import mean_absolute_error\n",
    "from sklearn.linear_model import LinearRegression\n",
    "from sklearn.ensemble import RandomForestRegressor"
   ]
  },
  {
   "cell_type": "code",
   "execution_count": 2,
   "metadata": {},
   "outputs": [],
   "source": [
    "# load and preview dataset\n",
    "df = pd.read_csv(\n",
    "    'https://bit.ly/3p1QPAv', index_col=[0], parse_dates=[0]\n",
    ")\n",
    "df.sort_index(inplace=True)\n",
    "df = df.resample('1h').sum()"
   ]
  },
  {
   "cell_type": "code",
   "execution_count": 3,
   "metadata": {},
   "outputs": [
    {
     "data": {
      "text/html": [
       "<div>\n",
       "<style scoped>\n",
       "    .dataframe tbody tr th:only-of-type {\n",
       "        vertical-align: middle;\n",
       "    }\n",
       "\n",
       "    .dataframe tbody tr th {\n",
       "        vertical-align: top;\n",
       "    }\n",
       "\n",
       "    .dataframe thead th {\n",
       "        text-align: right;\n",
       "    }\n",
       "</style>\n",
       "<table border=\"1\" class=\"dataframe\">\n",
       "  <thead>\n",
       "    <tr style=\"text-align: right;\">\n",
       "      <th></th>\n",
       "      <th>num_orders</th>\n",
       "    </tr>\n",
       "    <tr>\n",
       "      <th>datetime</th>\n",
       "      <th></th>\n",
       "    </tr>\n",
       "  </thead>\n",
       "  <tbody>\n",
       "    <tr>\n",
       "      <th>2018-03-01 00:00:00</th>\n",
       "      <td>124</td>\n",
       "    </tr>\n",
       "    <tr>\n",
       "      <th>2018-03-01 01:00:00</th>\n",
       "      <td>85</td>\n",
       "    </tr>\n",
       "    <tr>\n",
       "      <th>2018-03-01 02:00:00</th>\n",
       "      <td>71</td>\n",
       "    </tr>\n",
       "    <tr>\n",
       "      <th>2018-03-01 03:00:00</th>\n",
       "      <td>66</td>\n",
       "    </tr>\n",
       "    <tr>\n",
       "      <th>2018-03-01 04:00:00</th>\n",
       "      <td>43</td>\n",
       "    </tr>\n",
       "  </tbody>\n",
       "</table>\n",
       "</div>"
      ],
      "text/plain": [
       "                     num_orders\n",
       "datetime                       \n",
       "2018-03-01 00:00:00         124\n",
       "2018-03-01 01:00:00          85\n",
       "2018-03-01 02:00:00          71\n",
       "2018-03-01 03:00:00          66\n",
       "2018-03-01 04:00:00          43"
      ]
     },
     "execution_count": 3,
     "metadata": {},
     "output_type": "execute_result"
    }
   ],
   "source": [
    "df.head()"
   ]
  },
  {
   "cell_type": "code",
   "execution_count": 4,
   "metadata": {},
   "outputs": [
    {
     "data": {
      "text/plain": [
       "(4416, 1)"
      ]
     },
     "execution_count": 4,
     "metadata": {},
     "output_type": "execute_result"
    }
   ],
   "source": [
    "# check dataset shape\n",
    "df.shape"
   ]
  },
  {
   "cell_type": "code",
   "execution_count": 5,
   "metadata": {},
   "outputs": [
    {
     "data": {
      "text/plain": [
       "num_orders    251\n",
       "dtype: int64"
      ]
     },
     "execution_count": 5,
     "metadata": {},
     "output_type": "execute_result"
    }
   ],
   "source": [
    "df.nunique().sort_values()"
   ]
  },
  {
   "cell_type": "code",
   "execution_count": 6,
   "metadata": {},
   "outputs": [
    {
     "data": {
      "text/plain": [
       "num_orders    int64\n",
       "dtype: object"
      ]
     },
     "execution_count": 6,
     "metadata": {},
     "output_type": "execute_result"
    }
   ],
   "source": [
    "df.dtypes"
   ]
  },
  {
   "cell_type": "code",
   "execution_count": 7,
   "metadata": {},
   "outputs": [
    {
     "data": {
      "text/plain": [
       "num_orders    0\n",
       "dtype: int64"
      ]
     },
     "execution_count": 7,
     "metadata": {},
     "output_type": "execute_result"
    }
   ],
   "source": [
    "# check for missing values\n",
    "df.isna().sum()"
   ]
  },
  {
   "cell_type": "code",
   "execution_count": 8,
   "metadata": {},
   "outputs": [
    {
     "name": "stdout",
     "output_type": "stream",
     "text": [
      "Variable: num_orders\n",
      "Number of unique values: 251\n",
      "[124  85  71  66  43   6  12  15  34  69  64  96  30  32  48  44  73  45\n",
      "  61 113  58  90 120  75  20  11   7  46  54  91  36  59  82  83  89  49\n",
      "  93 101 119  72 163 108  25   9  17  56  52  57  28  41  76  68  63  60\n",
      "  26  42  27  22  39  19  51  80  77  86 176  16   3  14  31  50  62  37\n",
      "  40  47  10  81 100 121  24  38  55  99 127  94 143  78  65  97 114  88\n",
      "  79  84  29   1   4  70 117   5  18  53 102  33 107 118 153 105  67  35\n",
      " 109  21   8 123 110 134 133 137 126  13  74  95 139  87 106  92 148 182\n",
      " 104 131  98   2 112 103 128 166 111  23   0 129 164 165 138 142 159 115\n",
      " 130 135 150 167 147 253 140 172 116 125 162 201 136 146 154 145 155 158\n",
      " 156 193 197 234 157 122 144 149 171 152 174 186 132 194 183 188 229 173\n",
      " 185 161 151 190 192 184 160 203 180 141 168 224 187 251 198 245 222 213\n",
      " 195 215 178 177 216 223 179 170 169 248 204 230 196 211 212 249 226 175\n",
      " 273 437 231 219 214 202 191 281 254 210 200 272 462 239 240 205 247 242\n",
      " 246 267 238 263 408 208 295 189 220 265 217 232 227 342 276 268 207]\n",
      "\n"
     ]
    }
   ],
   "source": [
    "columns = df.columns\n",
    "\n",
    "for col in columns:\n",
    "    print(\"Variable:\", col)\n",
    "    print(\"Number of unique values:\", df[col].nunique())\n",
    "    print(df[col].unique())\n",
    "    print()"
   ]
  },
  {
   "cell_type": "code",
   "execution_count": 9,
   "metadata": {},
   "outputs": [
    {
     "data": {
      "image/png": "[encoded data removed]",
      "text/plain": [
       "<Figure size 1080x576 with 1 Axes>"
      ]
     },
     "metadata": {
      "needs_background": "light"
     },
     "output_type": "display_data"
    }
   ],
   "source": [
    "# visualizing the distribution of outliers\n",
    "plt.figure(figsize = (15, 8))\n",
    "df.boxplot()\n",
    "plt.show()"
   ]
  },
  {
   "cell_type": "code",
   "execution_count": 10,
   "metadata": {},
   "outputs": [
    {
     "name": "stdout",
     "output_type": "stream",
     "text": [
      "(121, 1)\n"
     ]
    },
    {
     "data": {
      "text/html": [
       "<div>\n",
       "<style scoped>\n",
       "    .dataframe tbody tr th:only-of-type {\n",
       "        vertical-align: middle;\n",
       "    }\n",
       "\n",
       "    .dataframe tbody tr th {\n",
       "        vertical-align: top;\n",
       "    }\n",
       "\n",
       "    .dataframe thead th {\n",
       "        text-align: right;\n",
       "    }\n",
       "</style>\n",
       "<table border=\"1\" class=\"dataframe\">\n",
       "  <thead>\n",
       "    <tr style=\"text-align: right;\">\n",
       "      <th></th>\n",
       "      <th>num_orders</th>\n",
       "    </tr>\n",
       "    <tr>\n",
       "      <th>datetime</th>\n",
       "      <th></th>\n",
       "    </tr>\n",
       "  </thead>\n",
       "  <tbody>\n",
       "    <tr>\n",
       "      <th>2018-07-02 00:00:00</th>\n",
       "      <td>188</td>\n",
       "    </tr>\n",
       "    <tr>\n",
       "      <th>2018-08-25 01:00:00</th>\n",
       "      <td>246</td>\n",
       "    </tr>\n",
       "    <tr>\n",
       "      <th>2018-08-31 18:00:00</th>\n",
       "      <td>207</td>\n",
       "    </tr>\n",
       "  </tbody>\n",
       "</table>\n",
       "</div>"
      ],
      "text/plain": [
       "                     num_orders\n",
       "datetime                       \n",
       "2018-07-02 00:00:00         188\n",
       "2018-08-25 01:00:00         246\n",
       "2018-08-31 18:00:00         207"
      ]
     },
     "execution_count": 10,
     "metadata": {},
     "output_type": "execute_result"
    }
   ],
   "source": [
    "# getting the records with outliers\n",
    "q1 = df.quantile(0.25)\n",
    "q3 = df.quantile(0.75)\n",
    "iqr = q3 - q1\n",
    "\n",
    "outliers_df = df[((df < (q1 - 1.5 * iqr)) | (df > (q3 + 1.5 * iqr))).any(axis = 1)]\n",
    "print(outliers_df.shape)\n",
    "outliers_df.sample(3)"
   ]
  },
  {
   "cell_type": "code",
   "execution_count": 11,
   "metadata": {},
   "outputs": [
    {
     "data": {
      "text/plain": [
       "2.74"
      ]
     },
     "execution_count": 11,
     "metadata": {},
     "output_type": "execute_result"
    }
   ],
   "source": [
    "# calculating percentage of outliers\n",
    "round((outliers_df.shape[0] / df.shape[0]) * 100, 2)"
   ]
  },
  {
   "cell_type": "markdown",
   "metadata": {},
   "source": [
    "3. Data Analysis"
   ]
  },
  {
   "cell_type": "code",
   "execution_count": 12,
   "metadata": {},
   "outputs": [
    {
     "data": {
      "text/html": [
       "<div>\n",
       "<style scoped>\n",
       "    .dataframe tbody tr th:only-of-type {\n",
       "        vertical-align: middle;\n",
       "    }\n",
       "\n",
       "    .dataframe tbody tr th {\n",
       "        vertical-align: top;\n",
       "    }\n",
       "\n",
       "    .dataframe thead th {\n",
       "        text-align: right;\n",
       "    }\n",
       "</style>\n",
       "<table border=\"1\" class=\"dataframe\">\n",
       "  <thead>\n",
       "    <tr style=\"text-align: right;\">\n",
       "      <th></th>\n",
       "      <th>num_orders</th>\n",
       "    </tr>\n",
       "  </thead>\n",
       "  <tbody>\n",
       "    <tr>\n",
       "      <th>count</th>\n",
       "      <td>4416.000000</td>\n",
       "    </tr>\n",
       "    <tr>\n",
       "      <th>mean</th>\n",
       "      <td>84.422781</td>\n",
       "    </tr>\n",
       "    <tr>\n",
       "      <th>std</th>\n",
       "      <td>45.023853</td>\n",
       "    </tr>\n",
       "    <tr>\n",
       "      <th>min</th>\n",
       "      <td>0.000000</td>\n",
       "    </tr>\n",
       "    <tr>\n",
       "      <th>25%</th>\n",
       "      <td>54.000000</td>\n",
       "    </tr>\n",
       "    <tr>\n",
       "      <th>50%</th>\n",
       "      <td>78.000000</td>\n",
       "    </tr>\n",
       "    <tr>\n",
       "      <th>75%</th>\n",
       "      <td>107.000000</td>\n",
       "    </tr>\n",
       "    <tr>\n",
       "      <th>max</th>\n",
       "      <td>462.000000</td>\n",
       "    </tr>\n",
       "  </tbody>\n",
       "</table>\n",
       "</div>"
      ],
      "text/plain": [
       "        num_orders\n",
       "count  4416.000000\n",
       "mean     84.422781\n",
       "std      45.023853\n",
       "min       0.000000\n",
       "25%      54.000000\n",
       "50%      78.000000\n",
       "75%     107.000000\n",
       "max     462.000000"
      ]
     },
     "execution_count": 12,
     "metadata": {},
     "output_type": "execute_result"
    }
   ],
   "source": [
    "# get the summary statistics\n",
    "df.describe()"
   ]
  },
  {
   "cell_type": "code",
   "execution_count": 13,
   "metadata": {},
   "outputs": [
    {
     "name": "stderr",
     "output_type": "stream",
     "text": [
      "/usr/local/lib/python3.9/site-packages/seaborn/_decorators.py:36: FutureWarning: Pass the following variable as a keyword arg: x. From version 0.12, the only valid positional argument will be `data`, and passing other arguments without an explicit keyword will result in an error or misinterpretation.\n",
      "  warnings.warn(\n",
      "/usr/local/lib/python3.9/site-packages/seaborn/distributions.py:2619: FutureWarning: `distplot` is a deprecated function and will be removed in a future version. Please adapt your code to use either `displot` (a figure-level function with similar flexibility) or `histplot` (an axes-level function for histograms).\n",
      "  warnings.warn(msg, FutureWarning)\n"
     ]
    },
    {
     "data": {
      "text/plain": [
       "<AxesSubplot:xlabel='num_orders', ylabel='Density'>"
      ]
     },
     "execution_count": 13,
     "metadata": {},
     "output_type": "execute_result"
    },
    {
     "data": {
      "image/png": "[encoded data removed]",
      "text/plain": [
       "<Figure size 1440x360 with 2 Axes>"
      ]
     },
     "metadata": {
      "needs_background": "light"
     },
     "output_type": "display_data"
    }
   ],
   "source": [
    "fig,ax = plt.subplots(1,2,figsize=(20,5))\n",
    "sns.boxplot(df[\"num_orders\"], ax=ax[0])\n",
    "sns.distplot(df[\"num_orders\"], fit=norm, ax=ax[1])"
   ]
  },
  {
   "cell_type": "markdown",
   "metadata": {},
   "source": [
    "4. Data Modeling"
   ]
  },
  {
   "cell_type": "code",
   "execution_count": 15,
   "metadata": {},
   "outputs": [
    {
     "name": "stdout",
     "output_type": "stream",
     "text": [
      "(4416, 1)\n",
      "(3974, 1)\n",
      "(442, 1)\n"
     ]
    }
   ],
   "source": [
    "#Creating Features\n",
    "#  splitting into 90-10 train-test sets\n",
    "\n",
    "#split data set\n",
    "train, test = train_test_split(df, shuffle=False, test_size=0.1)\n",
    "\n",
    "#confirm size of datasets\n",
    "print(df.shape)\n",
    "print(train.shape)\n",
    "print(test.shape)"
   ]
  },
  {
   "cell_type": "code",
   "execution_count": 16,
   "metadata": {},
   "outputs": [
    {
     "name": "stdout",
     "output_type": "stream",
     "text": [
      "2018-03-01 00:00:00 2018-08-13 13:00:00\n",
      "2018-08-13 14:00:00 2018-08-31 23:00:00\n"
     ]
    }
   ],
   "source": [
    "print(train.index.min(), train.index.max())\n",
    "print(test.index.min(), test.index.max())"
   ]
  },
  {
   "cell_type": "code",
   "execution_count": 17,
   "metadata": {},
   "outputs": [
    {
     "name": "stdout",
     "output_type": "stream",
     "text": [
      "Median daily taxi orders: 135.0\n",
      "MAE: 70.7918552036199\n"
     ]
    }
   ],
   "source": [
    "#using a constant value: median level of taxi orders so that you can correlate it with the MAE metric value\n",
    "print('Median daily taxi orders:', test['num_orders'].median())\n",
    "pred_median = np.ones(test.shape) * train['num_orders'].median()\n",
    "print('MAE:', mean_absolute_error(test, pred_median))"
   ]
  },
  {
   "cell_type": "code",
   "execution_count": 19,
   "metadata": {},
   "outputs": [
    {
     "name": "stdout",
     "output_type": "stream",
     "text": [
      "Median daily taxi orders: 135.0\n",
      "MAE: 44.97285067873303\n"
     ]
    }
   ],
   "source": [
    "\n",
    "#using the previous value in the series to  predict the taxi orders and find the MAE value for this prediction.\n",
    "print('Median daily taxi orders:', test['num_orders'].median())\n",
    "\n",
    "pred_previous = test.shift()\n",
    "\n",
    "pred_previous.iloc[0] = train.iloc[-1]\n",
    "print('MAE:', mean_absolute_error(test, pred_previous))\n",
    "\n",
    "#10%\n",
    "# With this forecast, the model's accuracy increases, and the model is sanity-checked, "
   ]
  },
  {
   "cell_type": "code",
   "execution_count": 20,
   "metadata": {},
   "outputs": [
    {
     "name": "stdout",
     "output_type": "stream",
     "text": [
      "                     num_orders  year  month  day  dayofweek  week  \\\n",
      "datetime                                                             \n",
      "2018-03-01 00:00:00         124  2018      3    1          3     9   \n",
      "2018-03-01 01:00:00          85  2018      3    1          3     9   \n",
      "2018-03-01 02:00:00          71  2018      3    1          3     9   \n",
      "2018-03-01 03:00:00          66  2018      3    1          3     9   \n",
      "2018-03-01 04:00:00          43  2018      3    1          3     9   \n",
      "\n",
      "                     is_weekend  hour  \n",
      "datetime                               \n",
      "2018-03-01 00:00:00           0     0  \n",
      "2018-03-01 01:00:00           0     1  \n",
      "2018-03-01 02:00:00           0     2  \n",
      "2018-03-01 03:00:00           0     3  \n",
      "2018-03-01 04:00:00           0     4  \n"
     ]
    },
    {
     "name": "stderr",
     "output_type": "stream",
     "text": [
      "/var/folders/yy/bnrc1d191h71x84crsy6p5dh0000gn/T/ipykernel_13171/3635738392.py:8: FutureWarning: weekofyear and week have been deprecated, please use DatetimeIndex.isocalendar().week instead, which returns a Series. To exactly reproduce the behavior of week and weekofyear and return an Index, you may call pd.Int64Index(idx.isocalendar().week)\n",
      "  df['week'] = df.index.week\n"
     ]
    }
   ],
   "source": [
    "#creating features\n",
    "\n",
    "def make_features(df):\n",
    "    df['year'] = df.index.year\n",
    "    df['month'] = df.index.month\n",
    "    df['day'] = df.index.day\n",
    "    df['dayofweek'] = df.index.dayofweek\n",
    "    df['week'] = df.index.week\n",
    "    df['is_weekend'] = df.dayofweek.isin([5,6])*1\n",
    "    df['hour'] = df.index.hour\n",
    "\n",
    "\n",
    "make_features(df)\n",
    "print(df.head())"
   ]
  },
  {
   "cell_type": "code",
   "execution_count": 21,
   "metadata": {},
   "outputs": [
    {
     "data": {
      "image/png": "[encoded data removed]",
      "text/plain": [
       "<Figure size 1152x360 with 1 Axes>"
      ]
     },
     "metadata": {
      "needs_background": "light"
     },
     "output_type": "display_data"
    }
   ],
   "source": [
    "plt.figure(figsize=(16, 5))\n",
    "plt.title(\"features\")\n",
    "df[:100].hour.plot()\n",
    "df[:100].dayofweek.plot()\n",
    "df[:100].is_weekend.plot()\n",
    "plt.grid(True);"
   ]
  },
  {
   "cell_type": "code",
   "execution_count": 22,
   "metadata": {},
   "outputs": [
    {
     "name": "stdout",
     "output_type": "stream",
     "text": [
      "                     num_orders  year  month  day  dayofweek  week  \\\n",
      "datetime                                                             \n",
      "2018-03-01 00:00:00         124  2018      3    1          3     9   \n",
      "2018-03-01 01:00:00          85  2018      3    1          3     9   \n",
      "2018-03-01 02:00:00          71  2018      3    1          3     9   \n",
      "2018-03-01 03:00:00          66  2018      3    1          3     9   \n",
      "2018-03-01 04:00:00          43  2018      3    1          3     9   \n",
      "\n",
      "                     is_weekend  hour  lag_1  lag_2  lag_3  lag_4  \n",
      "datetime                                                           \n",
      "2018-03-01 00:00:00           0     0    NaN    NaN    NaN    NaN  \n",
      "2018-03-01 01:00:00           0     1  124.0    NaN    NaN    NaN  \n",
      "2018-03-01 02:00:00           0     2   85.0  124.0    NaN    NaN  \n",
      "2018-03-01 03:00:00           0     3   71.0   85.0  124.0    NaN  \n",
      "2018-03-01 04:00:00           0     4   66.0   71.0   85.0  124.0  \n"
     ]
    },
    {
     "name": "stderr",
     "output_type": "stream",
     "text": [
      "/var/folders/yy/bnrc1d191h71x84crsy6p5dh0000gn/T/ipykernel_13171/2278747672.py:7: FutureWarning: weekofyear and week have been deprecated, please use DatetimeIndex.isocalendar().week instead, which returns a Series. To exactly reproduce the behavior of week and weekofyear and return an Index, you may call pd.Int64Index(idx.isocalendar().week)\n",
      "  df['week'] = df.index.week\n"
     ]
    }
   ],
   "source": [
    "#Calculate the lag values\n",
    "def make_features(df, max_lag):\n",
    "    df['year'] = df.index.year\n",
    "    df['month'] = df.index.month\n",
    "    df['day'] = df.index.day\n",
    "    df['dayofweek'] = df.index.dayofweek\n",
    "    df['week'] = df.index.week\n",
    "    df['is_weekend'] = df.dayofweek.isin([5,6])*1\n",
    "    df['hour'] = df.index.hour\n",
    "\n",
    "    for lag in range(1, max_lag + 1):\n",
    "        df['lag_{}'.format(lag)] = df['num_orders'].shift(lag)\n",
    "\n",
    "\n",
    "make_features(df, 4)\n",
    "print(df.head())"
   ]
  },
  {
   "cell_type": "code",
   "execution_count": 23,
   "metadata": {},
   "outputs": [
    {
     "name": "stdout",
     "output_type": "stream",
     "text": [
      "                     num_orders  year  month  day  dayofweek  week  \\\n",
      "datetime                                                             \n",
      "2018-03-01 00:00:00         124  2018      3    1          3     9   \n",
      "2018-03-01 01:00:00          85  2018      3    1          3     9   \n",
      "2018-03-01 02:00:00          71  2018      3    1          3     9   \n",
      "2018-03-01 03:00:00          66  2018      3    1          3     9   \n",
      "2018-03-01 04:00:00          43  2018      3    1          3     9   \n",
      "\n",
      "                     is_weekend  hour  lag_1  lag_2  lag_3  lag_4  \\\n",
      "datetime                                                            \n",
      "2018-03-01 00:00:00           0     0    NaN    NaN    NaN    NaN   \n",
      "2018-03-01 01:00:00           0     1  124.0    NaN    NaN    NaN   \n",
      "2018-03-01 02:00:00           0     2   85.0  124.0    NaN    NaN   \n",
      "2018-03-01 03:00:00           0     3   71.0   85.0  124.0    NaN   \n",
      "2018-03-01 04:00:00           0     4   66.0   71.0   85.0  124.0   \n",
      "\n",
      "                     rolling_mean  \n",
      "datetime                           \n",
      "2018-03-01 00:00:00           NaN  \n",
      "2018-03-01 01:00:00           NaN  \n",
      "2018-03-01 02:00:00           NaN  \n",
      "2018-03-01 03:00:00           NaN  \n",
      "2018-03-01 04:00:00          86.5  \n"
     ]
    },
    {
     "name": "stderr",
     "output_type": "stream",
     "text": [
      "/var/folders/yy/bnrc1d191h71x84crsy6p5dh0000gn/T/ipykernel_13171/3107589732.py:9: FutureWarning: weekofyear and week have been deprecated, please use DatetimeIndex.isocalendar().week instead, which returns a Series. To exactly reproduce the behavior of week and weekofyear and return an Index, you may call pd.Int64Index(idx.isocalendar().week)\n",
      "  df['week'] = df.index.week\n"
     ]
    }
   ],
   "source": [
    "#Calculate the rolling average and add it as a 'rolling_mean' feature.\n",
    "#Add the rolling_mean_size argument to the make_features() function that will specify the window width.\n",
    "\n",
    "def make_features(df, max_lag, rolling_mean_size):\n",
    "    df['year'] = df.index.year\n",
    "    df['month'] = df.index.month\n",
    "    df['day'] = df.index.day\n",
    "    df['dayofweek'] = df.index.dayofweek\n",
    "    df['week'] = df.index.week\n",
    "    df['is_weekend'] = df.dayofweek.isin([5,6])*1\n",
    "    df['hour'] = df.index.hour\n",
    "\n",
    "    for lag in range(1, max_lag + 1):\n",
    "        df['lag_{}'.format(lag)] = df['num_orders'].shift(lag)\n",
    "\n",
    "    df['rolling_mean'] = (\n",
    "        df['num_orders'].shift().rolling(rolling_mean_size).mean()\n",
    "    )\n",
    "\n",
    "\n",
    "make_features(df, 4, 4)\n",
    "print(df.head())"
   ]
  },
  {
   "cell_type": "markdown",
   "metadata": {},
   "source": [
    "4.2 Model Training"
   ]
  },
  {
   "cell_type": "code",
   "execution_count": 24,
   "metadata": {},
   "outputs": [
    {
     "name": "stdout",
     "output_type": "stream",
     "text": [
      "(3532, 13)\n",
      "(884, 13)\n",
      "num_orders      0\n",
      "year            0\n",
      "month           0\n",
      "day             0\n",
      "dayofweek       0\n",
      "week            0\n",
      "is_weekend      0\n",
      "hour            0\n",
      "lag_1           1\n",
      "lag_2           2\n",
      "lag_3           3\n",
      "lag_4           4\n",
      "rolling_mean    1\n",
      "dtype: int64\n"
     ]
    },
    {
     "name": "stderr",
     "output_type": "stream",
     "text": [
      "/var/folders/yy/bnrc1d191h71x84crsy6p5dh0000gn/T/ipykernel_13171/4293460562.py:8: FutureWarning: weekofyear and week have been deprecated, please use DatetimeIndex.isocalendar().week instead, which returns a Series. To exactly reproduce the behavior of week and weekofyear and return an Index, you may call pd.Int64Index(idx.isocalendar().week)\n",
      "  df['week'] = df.index.week\n"
     ]
    }
   ],
   "source": [
    "#Split the electricity consumption dataset into training and test sets at a 4:1 ratio\n",
    "\n",
    "def make_features(df, max_lag, rolling_mean_size):\n",
    "    df['year'] = df.index.year\n",
    "    df['month'] = df.index.month\n",
    "    df['day'] = df.index.day\n",
    "    df['dayofweek'] = df.index.dayofweek\n",
    "    df['week'] = df.index.week\n",
    "    df['is_weekend'] = df.dayofweek.isin([5,6])*1\n",
    "    df['hour'] = df.index.hour\n",
    "    \n",
    "    for lag in range(1, max_lag + 1):\n",
    "        df['lag_{}'.format(lag)] = df['num_orders'].shift(lag)\n",
    "\n",
    "    df['rolling_mean'] = (\n",
    "        df['num_orders'].shift().rolling(rolling_mean_size).mean()\n",
    "    )\n",
    "\n",
    "# we chose argument values at random\n",
    "make_features(df, 1, 1)\n",
    "\n",
    "# < write code here >\n",
    "train, test = train_test_split(df, shuffle=False, test_size=0.2)\n",
    "\n",
    "print(train.shape)\n",
    "print(test.shape)\n",
    "print(train.isnull().sum())\n",
    "\n",
    "#drop rows that have Nan values, there are no previous data to work with\n",
    "train.dropna(axis=0,inplace=True)"
   ]
  },
  {
   "cell_type": "code",
   "execution_count": 25,
   "metadata": {},
   "outputs": [
    {
     "name": "stdout",
     "output_type": "stream",
     "text": [
      "num_orders      0\n",
      "year            0\n",
      "month           0\n",
      "day             0\n",
      "dayofweek       0\n",
      "week            0\n",
      "is_weekend      0\n",
      "hour            0\n",
      "lag_1           0\n",
      "lag_2           0\n",
      "lag_3           0\n",
      "lag_4           0\n",
      "rolling_mean    0\n",
      "dtype: int64\n"
     ]
    }
   ],
   "source": [
    "#check missing values \n",
    "print(train.isnull().sum())"
   ]
  },
  {
   "cell_type": "code",
   "execution_count": 26,
   "metadata": {},
   "outputs": [
    {
     "data": {
      "text/html": [
       "<div>\n",
       "<style scoped>\n",
       "    .dataframe tbody tr th:only-of-type {\n",
       "        vertical-align: middle;\n",
       "    }\n",
       "\n",
       "    .dataframe tbody tr th {\n",
       "        vertical-align: top;\n",
       "    }\n",
       "\n",
       "    .dataframe thead th {\n",
       "        text-align: right;\n",
       "    }\n",
       "</style>\n",
       "<table border=\"1\" class=\"dataframe\">\n",
       "  <thead>\n",
       "    <tr style=\"text-align: right;\">\n",
       "      <th></th>\n",
       "      <th>num_orders</th>\n",
       "      <th>year</th>\n",
       "      <th>month</th>\n",
       "      <th>day</th>\n",
       "      <th>dayofweek</th>\n",
       "      <th>week</th>\n",
       "      <th>is_weekend</th>\n",
       "      <th>hour</th>\n",
       "      <th>lag_1</th>\n",
       "      <th>lag_2</th>\n",
       "      <th>lag_3</th>\n",
       "      <th>lag_4</th>\n",
       "      <th>rolling_mean</th>\n",
       "    </tr>\n",
       "    <tr>\n",
       "      <th>datetime</th>\n",
       "      <th></th>\n",
       "      <th></th>\n",
       "      <th></th>\n",
       "      <th></th>\n",
       "      <th></th>\n",
       "      <th></th>\n",
       "      <th></th>\n",
       "      <th></th>\n",
       "      <th></th>\n",
       "      <th></th>\n",
       "      <th></th>\n",
       "      <th></th>\n",
       "      <th></th>\n",
       "    </tr>\n",
       "  </thead>\n",
       "  <tbody>\n",
       "    <tr>\n",
       "      <th>2018-07-26 04:00:00</th>\n",
       "      <td>131</td>\n",
       "      <td>2018</td>\n",
       "      <td>7</td>\n",
       "      <td>26</td>\n",
       "      <td>3</td>\n",
       "      <td>30</td>\n",
       "      <td>0</td>\n",
       "      <td>4</td>\n",
       "      <td>141.0</td>\n",
       "      <td>197.0</td>\n",
       "      <td>73.0</td>\n",
       "      <td>149.0</td>\n",
       "      <td>141.0</td>\n",
       "    </tr>\n",
       "    <tr>\n",
       "      <th>2018-07-26 05:00:00</th>\n",
       "      <td>83</td>\n",
       "      <td>2018</td>\n",
       "      <td>7</td>\n",
       "      <td>26</td>\n",
       "      <td>3</td>\n",
       "      <td>30</td>\n",
       "      <td>0</td>\n",
       "      <td>5</td>\n",
       "      <td>131.0</td>\n",
       "      <td>141.0</td>\n",
       "      <td>197.0</td>\n",
       "      <td>73.0</td>\n",
       "      <td>131.0</td>\n",
       "    </tr>\n",
       "    <tr>\n",
       "      <th>2018-07-26 06:00:00</th>\n",
       "      <td>21</td>\n",
       "      <td>2018</td>\n",
       "      <td>7</td>\n",
       "      <td>26</td>\n",
       "      <td>3</td>\n",
       "      <td>30</td>\n",
       "      <td>0</td>\n",
       "      <td>6</td>\n",
       "      <td>83.0</td>\n",
       "      <td>131.0</td>\n",
       "      <td>141.0</td>\n",
       "      <td>197.0</td>\n",
       "      <td>83.0</td>\n",
       "    </tr>\n",
       "    <tr>\n",
       "      <th>2018-07-26 07:00:00</th>\n",
       "      <td>39</td>\n",
       "      <td>2018</td>\n",
       "      <td>7</td>\n",
       "      <td>26</td>\n",
       "      <td>3</td>\n",
       "      <td>30</td>\n",
       "      <td>0</td>\n",
       "      <td>7</td>\n",
       "      <td>21.0</td>\n",
       "      <td>83.0</td>\n",
       "      <td>131.0</td>\n",
       "      <td>141.0</td>\n",
       "      <td>21.0</td>\n",
       "    </tr>\n",
       "    <tr>\n",
       "      <th>2018-07-26 08:00:00</th>\n",
       "      <td>80</td>\n",
       "      <td>2018</td>\n",
       "      <td>7</td>\n",
       "      <td>26</td>\n",
       "      <td>3</td>\n",
       "      <td>30</td>\n",
       "      <td>0</td>\n",
       "      <td>8</td>\n",
       "      <td>39.0</td>\n",
       "      <td>21.0</td>\n",
       "      <td>83.0</td>\n",
       "      <td>131.0</td>\n",
       "      <td>39.0</td>\n",
       "    </tr>\n",
       "  </tbody>\n",
       "</table>\n",
       "</div>"
      ],
      "text/plain": [
       "                     num_orders  year  month  day  dayofweek  week  \\\n",
       "datetime                                                             \n",
       "2018-07-26 04:00:00         131  2018      7   26          3    30   \n",
       "2018-07-26 05:00:00          83  2018      7   26          3    30   \n",
       "2018-07-26 06:00:00          21  2018      7   26          3    30   \n",
       "2018-07-26 07:00:00          39  2018      7   26          3    30   \n",
       "2018-07-26 08:00:00          80  2018      7   26          3    30   \n",
       "\n",
       "                     is_weekend  hour  lag_1  lag_2  lag_3  lag_4  \\\n",
       "datetime                                                            \n",
       "2018-07-26 04:00:00           0     4  141.0  197.0   73.0  149.0   \n",
       "2018-07-26 05:00:00           0     5  131.0  141.0  197.0   73.0   \n",
       "2018-07-26 06:00:00           0     6   83.0  131.0  141.0  197.0   \n",
       "2018-07-26 07:00:00           0     7   21.0   83.0  131.0  141.0   \n",
       "2018-07-26 08:00:00           0     8   39.0   21.0   83.0  131.0   \n",
       "\n",
       "                     rolling_mean  \n",
       "datetime                           \n",
       "2018-07-26 04:00:00         141.0  \n",
       "2018-07-26 05:00:00         131.0  \n",
       "2018-07-26 06:00:00          83.0  \n",
       "2018-07-26 07:00:00          21.0  \n",
       "2018-07-26 08:00:00          39.0  "
      ]
     },
     "execution_count": 26,
     "metadata": {},
     "output_type": "execute_result"
    }
   ],
   "source": [
    "#model training\n",
    "#Select the features and the target in the set. \n",
    "#Use them to train the linear regression model and print the MAE values for the training and test sets\n",
    "test.head()"
   ]
  },
  {
   "cell_type": "code",
   "execution_count": 27,
   "metadata": {},
   "outputs": [
    {
     "name": "stdout",
     "output_type": "stream",
     "text": [
      "MAE for the training set: 22.49132879755099\n",
      "MAE for the test set: 35.48013218748779\n"
     ]
    }
   ],
   "source": [
    "features_train = train.drop(['num_orders'], axis=1)\n",
    "target_train = train['num_orders']\n",
    "features_test = test.drop(['num_orders'], axis=1)\n",
    "target_test = test['num_orders']\n",
    "\n",
    "model = LinearRegression()\n",
    "model.fit(features_train, target_train)\n",
    "\n",
    "pred_train = model.predict(features_train)\n",
    "pred_test = model.predict(features_test)\n",
    "\n",
    "print(\n",
    "    'MAE for the training set:', mean_absolute_error(target_train, pred_train)\n",
    ")\n",
    "print('MAE for the test set:', mean_absolute_error(target_test, pred_test))\n",
    "\n",
    "#The previous MAE value for the test was 44 and now noticeably lower."
   ]
  },
  {
   "cell_type": "code",
   "execution_count": 28,
   "metadata": {},
   "outputs": [
    {
     "name": "stdout",
     "output_type": "stream",
     "text": [
      "Linear Regression RMSE: 47.60259923626229\n"
     ]
    }
   ],
   "source": [
    "from sklearn import metrics \n",
    "print('Linear Regression RMSE:', np.sqrt(metrics.mean_squared_error(target_test, pred_test)))"
   ]
  },
  {
   "cell_type": "code",
   "execution_count": 29,
   "metadata": {},
   "outputs": [
    {
     "name": "stdout",
     "output_type": "stream",
     "text": [
      "Random Forest Regression RMSE: 47.60259923626229\n"
     ]
    }
   ],
   "source": [
    "#using other models to improve the metric score\n",
    "random_model = RandomForestRegressor()\n",
    "random_model.fit(features_train, target_train)\n",
    "\n",
    "pred_train_random = model.predict(features_train)\n",
    "pred_test_random = model.predict(features_test)\n",
    "\n",
    "print('Random Forest Regression RMSE:', np.sqrt(metrics.mean_squared_error(target_test, pred_test_random)))"
   ]
  },
  {
   "cell_type": "markdown",
   "metadata": {},
   "source": [
    "5. Summary of Findings\n",
    "From the above models used, using RMSE and MAE, Linear Regressor is the best model to be used for predictions"
   ]
  },
  {
   "cell_type": "markdown",
   "metadata": {},
   "source": [
    "6. Recommendations\n",
    "What recommendations can you provide?\n",
    "\n",
    "Use Linear Regression for predictions to determine the number of orders to be made within the next hour\n",
    "\n",
    "Linear Regression had the following scores, which is less than the required base of RMSE of 48:\n",
    "\n",
    "RMSE: 47.60\n",
    "\n",
    "MAE: 35.42"
   ]
  },
  {
   "cell_type": "markdown",
   "metadata": {},
   "source": [
    "7. Challenging your Solution\n",
    "a). Did we have the right data? Do we need other data to answer our question?\n",
    "\n",
    "Yes we had the right data\n",
    "\n",
    "b) Did we have the right question?\n",
    "\n",
    "Yes we did\n",
    "\n",
    "c) What could be done to improve the model?\n",
    "\n",
    "Hyperparameter tuning of identified models."
   ]
  }
 ],
 "metadata": {
  "kernelspec": {
   "display_name": "Python 3.9.12 64-bit",
   "language": "python",
   "name": "python3"
  },
  "language_info": {
   "codemirror_mode": {
    "name": "ipython",
    "version": 3
   },
   "file_extension": ".py",
   "mimetype": "text/x-python",
   "name": "python",
   "nbconvert_exporter": "python",
   "pygments_lexer": "ipython3",
   "version": "3.9.12"
  },
  "orig_nbformat": 4,
  "vscode": {
   "interpreter": {
    "hash": "aee8b7b246df8f9039afb4144a1f6fd8d2ca17a180786b69acc140d282b71a49"
   }
  }
 },
 "nbformat": 4,
 "nbformat_minor": 2
}
